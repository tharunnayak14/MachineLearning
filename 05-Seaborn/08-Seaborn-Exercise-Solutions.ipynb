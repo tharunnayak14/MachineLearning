{
 "cells": [
  {
   "cell_type": "markdown",
   "metadata": {},
   "source": [
    "___\n",
    "\n",
    "<a href='http://www.pieriandata.com'><img src='../Pierian_Data_Logo.png'/></a>\n",
    "___\n",
    "<center><em>Copyright by Pierian Data Inc.</em></center>\n",
    "<center><em>For more information, visit us at <a href='http://www.pieriandata.com'>www.pieriandata.com</a></em></center>"
   ]
  },
  {
   "cell_type": "markdown",
   "metadata": {},
   "source": [
    "# Seaborn Exercises - Solutions"
   ]
  },
  {
   "cell_type": "markdown",
   "metadata": {},
   "source": [
    "## Imports\n",
    "\n",
    "Run the cell below to import the libraries"
   ]
  },
  {
   "cell_type": "code",
   "execution_count": 1,
   "metadata": {},
   "outputs": [],
   "source": [
    "import numpy as np\n",
    "import pandas as pd\n",
    "import seaborn as sns\n",
    "\n",
    "import matplotlib.pyplot as plt"
   ]
  },
  {
   "cell_type": "markdown",
   "metadata": {},
   "source": [
    "## The Data\n",
    "\n",
    "DATA SOURCE: https://www.kaggle.com/rikdifos/credit-card-approval-prediction\n",
    "\n",
    "Data Information:\n",
    "\n",
    "Credit score cards are a common risk control method in the financial industry. It uses personal information and data submitted by credit card applicants to predict the probability of future defaults and credit card borrowings. The bank is able to decide whether to issue a credit card to the applicant. Credit scores can objectively quantify the magnitude of risk."
   ]
  },
  {
   "cell_type": "markdown",
   "metadata": {},
   "source": [
    "Feature Information:\n",
    "\n",
    "<table>\n",
    "<thead>\n",
    "<tr>\n",
    "<th>application_record.csv</th>\n",
    "<th></th>\n",
    "<th></th>\n",
    "</tr>\n",
    "</thead>\n",
    "<tbody>\n",
    "<tr>\n",
    "<td>Feature name</td>\n",
    "<td>Explanation</td>\n",
    "<td>Remarks</td>\n",
    "</tr>\n",
    "<tr>\n",
    "<td><code>ID</code></td>\n",
    "<td>Client number</td>\n",
    "<td></td>\n",
    "</tr>\n",
    "<tr>\n",
    "<td><code>CODE_GENDER</code></td>\n",
    "<td>Gender</td>\n",
    "<td></td>\n",
    "</tr>\n",
    "<tr>\n",
    "<td><code>FLAG_OWN_CAR</code></td>\n",
    "<td>Is there a car</td>\n",
    "<td></td>\n",
    "</tr>\n",
    "<tr>\n",
    "<td><code>FLAG_OWN_REALTY</code></td>\n",
    "<td>Is there a property</td>\n",
    "<td></td>\n",
    "</tr>\n",
    "<tr>\n",
    "<td><code>CNT_CHILDREN</code></td>\n",
    "<td>Number of children</td>\n",
    "<td></td>\n",
    "</tr>\n",
    "<tr>\n",
    "<td><code>AMT_INCOME_TOTAL</code></td>\n",
    "<td>Annual income</td>\n",
    "<td></td>\n",
    "</tr>\n",
    "<tr>\n",
    "<td><code>NAME_INCOME_TYPE</code></td>\n",
    "<td>Income category</td>\n",
    "<td></td>\n",
    "</tr>\n",
    "<tr>\n",
    "<td><code>NAME_EDUCATION_TYPE</code></td>\n",
    "<td>Education level</td>\n",
    "<td></td>\n",
    "</tr>\n",
    "<tr>\n",
    "<td><code>NAME_FAMILY_STATUS</code></td>\n",
    "<td>Marital status</td>\n",
    "<td></td>\n",
    "</tr>\n",
    "<tr>\n",
    "<td><code>NAME_HOUSING_TYPE</code></td>\n",
    "<td>Way of living</td>\n",
    "<td></td>\n",
    "</tr>\n",
    "<tr>\n",
    "<td><code>DAYS_BIRTH</code></td>\n",
    "<td>Birthday</td>\n",
    "<td>Count backwards from current day (0), -1 means yesterday</td>\n",
    "</tr>\n",
    "<tr>\n",
    "<td><code>DAYS_EMPLOYED</code></td>\n",
    "<td>Start date  of employment</td>\n",
    "<td>Count backwards from current day(0). If  positive, it means the person currently unemployed.</td>\n",
    "</tr>\n",
    "<tr>\n",
    "<td><code>FLAG_MOBIL</code></td>\n",
    "<td>Is there a mobile   phone</td>\n",
    "<td></td>\n",
    "</tr>\n",
    "<tr>\n",
    "<td><code>FLAG_WORK_PHONE</code></td>\n",
    "<td>Is there a work phone</td>\n",
    "<td></td>\n",
    "</tr>\n",
    "<tr>\n",
    "<td><code>FLAG_PHONE</code></td>\n",
    "<td>Is there a phone</td>\n",
    "<td></td>\n",
    "</tr>\n",
    "<tr>\n",
    "<td><code>FLAG_EMAIL</code></td>\n",
    "<td>Is there an email</td>\n",
    "<td></td>\n",
    "</tr>\n",
    "<tr>\n",
    "<td><code>OCCUPATION_TYPE</code></td>\n",
    "<td>Occupation</td>\n",
    "<td></td>\n",
    "</tr>\n",
    "<tr>\n",
    "<td><code>CNT_FAM_MEMBERS</code></td>\n",
    "<td>Family size</td>\n",
    "<td></td>\n",
    "</tr>\n",
    "</tbody>\n",
    "</table>"
   ]
  },
  {
   "cell_type": "code",
   "execution_count": 2,
   "metadata": {},
   "outputs": [],
   "source": [
    "df = pd.read_csv('application_record.csv')"
   ]
  },
  {
   "cell_type": "code",
   "execution_count": 3,
   "metadata": {
    "scrolled": true
   },
   "outputs": [
    {
     "data": {
      "text/html": [
       "<div>\n",
       "<style scoped>\n",
       "    .dataframe tbody tr th:only-of-type {\n",
       "        vertical-align: middle;\n",
       "    }\n",
       "\n",
       "    .dataframe tbody tr th {\n",
       "        vertical-align: top;\n",
       "    }\n",
       "\n",
       "    .dataframe thead th {\n",
       "        text-align: right;\n",
       "    }\n",
       "</style>\n",
       "<table border=\"1\" class=\"dataframe\">\n",
       "  <thead>\n",
       "    <tr style=\"text-align: right;\">\n",
       "      <th></th>\n",
       "      <th>ID</th>\n",
       "      <th>CODE_GENDER</th>\n",
       "      <th>FLAG_OWN_CAR</th>\n",
       "      <th>FLAG_OWN_REALTY</th>\n",
       "      <th>CNT_CHILDREN</th>\n",
       "      <th>AMT_INCOME_TOTAL</th>\n",
       "      <th>NAME_INCOME_TYPE</th>\n",
       "      <th>NAME_EDUCATION_TYPE</th>\n",
       "      <th>NAME_FAMILY_STATUS</th>\n",
       "      <th>NAME_HOUSING_TYPE</th>\n",
       "      <th>DAYS_BIRTH</th>\n",
       "      <th>DAYS_EMPLOYED</th>\n",
       "      <th>FLAG_MOBIL</th>\n",
       "      <th>FLAG_WORK_PHONE</th>\n",
       "      <th>FLAG_PHONE</th>\n",
       "      <th>FLAG_EMAIL</th>\n",
       "      <th>OCCUPATION_TYPE</th>\n",
       "      <th>CNT_FAM_MEMBERS</th>\n",
       "    </tr>\n",
       "  </thead>\n",
       "  <tbody>\n",
       "    <tr>\n",
       "      <th>0</th>\n",
       "      <td>5008804</td>\n",
       "      <td>M</td>\n",
       "      <td>Y</td>\n",
       "      <td>Y</td>\n",
       "      <td>0</td>\n",
       "      <td>427500.0</td>\n",
       "      <td>Working</td>\n",
       "      <td>Higher education</td>\n",
       "      <td>Civil marriage</td>\n",
       "      <td>Rented apartment</td>\n",
       "      <td>-12005</td>\n",
       "      <td>-4542</td>\n",
       "      <td>1</td>\n",
       "      <td>1</td>\n",
       "      <td>0</td>\n",
       "      <td>0</td>\n",
       "      <td>NaN</td>\n",
       "      <td>2.0</td>\n",
       "    </tr>\n",
       "    <tr>\n",
       "      <th>1</th>\n",
       "      <td>5008805</td>\n",
       "      <td>M</td>\n",
       "      <td>Y</td>\n",
       "      <td>Y</td>\n",
       "      <td>0</td>\n",
       "      <td>427500.0</td>\n",
       "      <td>Working</td>\n",
       "      <td>Higher education</td>\n",
       "      <td>Civil marriage</td>\n",
       "      <td>Rented apartment</td>\n",
       "      <td>-12005</td>\n",
       "      <td>-4542</td>\n",
       "      <td>1</td>\n",
       "      <td>1</td>\n",
       "      <td>0</td>\n",
       "      <td>0</td>\n",
       "      <td>NaN</td>\n",
       "      <td>2.0</td>\n",
       "    </tr>\n",
       "    <tr>\n",
       "      <th>2</th>\n",
       "      <td>5008806</td>\n",
       "      <td>M</td>\n",
       "      <td>Y</td>\n",
       "      <td>Y</td>\n",
       "      <td>0</td>\n",
       "      <td>112500.0</td>\n",
       "      <td>Working</td>\n",
       "      <td>Secondary / secondary special</td>\n",
       "      <td>Married</td>\n",
       "      <td>House / apartment</td>\n",
       "      <td>-21474</td>\n",
       "      <td>-1134</td>\n",
       "      <td>1</td>\n",
       "      <td>0</td>\n",
       "      <td>0</td>\n",
       "      <td>0</td>\n",
       "      <td>Security staff</td>\n",
       "      <td>2.0</td>\n",
       "    </tr>\n",
       "    <tr>\n",
       "      <th>3</th>\n",
       "      <td>5008808</td>\n",
       "      <td>F</td>\n",
       "      <td>N</td>\n",
       "      <td>Y</td>\n",
       "      <td>0</td>\n",
       "      <td>270000.0</td>\n",
       "      <td>Commercial associate</td>\n",
       "      <td>Secondary / secondary special</td>\n",
       "      <td>Single / not married</td>\n",
       "      <td>House / apartment</td>\n",
       "      <td>-19110</td>\n",
       "      <td>-3051</td>\n",
       "      <td>1</td>\n",
       "      <td>0</td>\n",
       "      <td>1</td>\n",
       "      <td>1</td>\n",
       "      <td>Sales staff</td>\n",
       "      <td>1.0</td>\n",
       "    </tr>\n",
       "    <tr>\n",
       "      <th>4</th>\n",
       "      <td>5008809</td>\n",
       "      <td>F</td>\n",
       "      <td>N</td>\n",
       "      <td>Y</td>\n",
       "      <td>0</td>\n",
       "      <td>270000.0</td>\n",
       "      <td>Commercial associate</td>\n",
       "      <td>Secondary / secondary special</td>\n",
       "      <td>Single / not married</td>\n",
       "      <td>House / apartment</td>\n",
       "      <td>-19110</td>\n",
       "      <td>-3051</td>\n",
       "      <td>1</td>\n",
       "      <td>0</td>\n",
       "      <td>1</td>\n",
       "      <td>1</td>\n",
       "      <td>Sales staff</td>\n",
       "      <td>1.0</td>\n",
       "    </tr>\n",
       "  </tbody>\n",
       "</table>\n",
       "</div>"
      ],
      "text/plain": [
       "        ID CODE_GENDER FLAG_OWN_CAR FLAG_OWN_REALTY  CNT_CHILDREN  \\\n",
       "0  5008804           M            Y               Y             0   \n",
       "1  5008805           M            Y               Y             0   \n",
       "2  5008806           M            Y               Y             0   \n",
       "3  5008808           F            N               Y             0   \n",
       "4  5008809           F            N               Y             0   \n",
       "\n",
       "   AMT_INCOME_TOTAL      NAME_INCOME_TYPE            NAME_EDUCATION_TYPE  \\\n",
       "0          427500.0               Working               Higher education   \n",
       "1          427500.0               Working               Higher education   \n",
       "2          112500.0               Working  Secondary / secondary special   \n",
       "3          270000.0  Commercial associate  Secondary / secondary special   \n",
       "4          270000.0  Commercial associate  Secondary / secondary special   \n",
       "\n",
       "     NAME_FAMILY_STATUS  NAME_HOUSING_TYPE  DAYS_BIRTH  DAYS_EMPLOYED  \\\n",
       "0        Civil marriage   Rented apartment      -12005          -4542   \n",
       "1        Civil marriage   Rented apartment      -12005          -4542   \n",
       "2               Married  House / apartment      -21474          -1134   \n",
       "3  Single / not married  House / apartment      -19110          -3051   \n",
       "4  Single / not married  House / apartment      -19110          -3051   \n",
       "\n",
       "   FLAG_MOBIL  FLAG_WORK_PHONE  FLAG_PHONE  FLAG_EMAIL OCCUPATION_TYPE  \\\n",
       "0           1                1           0           0             NaN   \n",
       "1           1                1           0           0             NaN   \n",
       "2           1                0           0           0  Security staff   \n",
       "3           1                0           1           1     Sales staff   \n",
       "4           1                0           1           1     Sales staff   \n",
       "\n",
       "   CNT_FAM_MEMBERS  \n",
       "0              2.0  \n",
       "1              2.0  \n",
       "2              2.0  \n",
       "3              1.0  \n",
       "4              1.0  "
      ]
     },
     "execution_count": 3,
     "metadata": {},
     "output_type": "execute_result"
    }
   ],
   "source": [
    "df.head()"
   ]
  },
  {
   "cell_type": "code",
   "execution_count": 4,
   "metadata": {},
   "outputs": [
    {
     "name": "stdout",
     "output_type": "stream",
     "text": [
      "<class 'pandas.core.frame.DataFrame'>\n",
      "RangeIndex: 438557 entries, 0 to 438556\n",
      "Data columns (total 18 columns):\n",
      " #   Column               Non-Null Count   Dtype  \n",
      "---  ------               --------------   -----  \n",
      " 0   ID                   438557 non-null  int64  \n",
      " 1   CODE_GENDER          438557 non-null  object \n",
      " 2   FLAG_OWN_CAR         438557 non-null  object \n",
      " 3   FLAG_OWN_REALTY      438557 non-null  object \n",
      " 4   CNT_CHILDREN         438557 non-null  int64  \n",
      " 5   AMT_INCOME_TOTAL     438557 non-null  float64\n",
      " 6   NAME_INCOME_TYPE     438557 non-null  object \n",
      " 7   NAME_EDUCATION_TYPE  438557 non-null  object \n",
      " 8   NAME_FAMILY_STATUS   438557 non-null  object \n",
      " 9   NAME_HOUSING_TYPE    438557 non-null  object \n",
      " 10  DAYS_BIRTH           438557 non-null  int64  \n",
      " 11  DAYS_EMPLOYED        438557 non-null  int64  \n",
      " 12  FLAG_MOBIL           438557 non-null  int64  \n",
      " 13  FLAG_WORK_PHONE      438557 non-null  int64  \n",
      " 14  FLAG_PHONE           438557 non-null  int64  \n",
      " 15  FLAG_EMAIL           438557 non-null  int64  \n",
      " 16  OCCUPATION_TYPE      304354 non-null  object \n",
      " 17  CNT_FAM_MEMBERS      438557 non-null  float64\n",
      "dtypes: float64(2), int64(8), object(8)\n",
      "memory usage: 60.2+ MB\n"
     ]
    }
   ],
   "source": [
    "df.info()"
   ]
  },
  {
   "cell_type": "markdown",
   "metadata": {},
   "source": [
    "## TASKS \n",
    "\n",
    "### Recreate the plots shown in the markdown image cells. Each plot also contains a brief description of what it is trying to convey. Note, these are meant to be quite challenging. Start by first replicating the most basic form of the plot, then attempt to adjust its styling and parameters to match the given image.\n",
    "\n",
    "In general do not worry about coloring,styling, or sizing matching up exactly. Instead focus on the content of the plot itself. Our goal is not to test you on recognizing figsize=(10,8) , its to test your understanding of being able to see a requested plot, and reproducing it.\n",
    "\n",
    "**NOTE: You may need to perform extra calculations on the pandas dataframe before calling seaborn to create the plot.**"
   ]
  },
  {
   "cell_type": "markdown",
   "metadata": {},
   "source": [
    "----\n",
    "----\n",
    "### TASK: Recreate the Scatter Plot shown below\n",
    "\n",
    "**The scatterplot attempts to show the relationship between the days employed versus the age of the person (DAYS_BIRTH) for people who were not unemployed. Note, to reproduce this chart you must remove unemployed people from the dataset first. Also note the sign of the axis, they are both transformed to be positive. Finally, feel free to adjust the *alpha* and *linewidth* parameters in the scatterplot since there are so many points stacked on top of each other.** \n",
    "\n",
    "<img src=\"task_one.jpg\">\n"
   ]
  },
  {
   "cell_type": "code",
   "execution_count": 5,
   "metadata": {},
   "outputs": [],
   "source": [
    "# CODE HERE TO RECREATE THE PLOT SHOWN ABOVE"
   ]
  },
  {
   "cell_type": "code",
   "execution_count": 6,
   "metadata": {},
   "outputs": [],
   "source": [
    "import warnings"
   ]
  },
  {
   "cell_type": "code",
   "execution_count": 7,
   "metadata": {},
   "outputs": [],
   "source": [
    "warnings.simplefilter('ignore')"
   ]
  },
  {
   "cell_type": "code",
   "execution_count": 1,
   "metadata": {
    "ExecuteTime": {
     "end_time": "2021-05-13T06:03:48.992061Z",
     "start_time": "2021-05-13T06:03:48.831436Z"
    }
   },
   "outputs": [
    {
     "ename": "NameError",
     "evalue": "name 'plt' is not defined",
     "output_type": "error",
     "traceback": [
      "\u001b[1;31m---------------------------------------------------------------------------\u001b[0m",
      "\u001b[1;31mNameError\u001b[0m                                 Traceback (most recent call last)",
      "\u001b[1;32m<ipython-input-1-9d07f16445a9>\u001b[0m in \u001b[0;36m<module>\u001b[1;34m\u001b[0m\n\u001b[1;32m----> 1\u001b[1;33m \u001b[0mplt\u001b[0m\u001b[1;33m.\u001b[0m\u001b[0mfigure\u001b[0m\u001b[1;33m(\u001b[0m\u001b[0mfigsize\u001b[0m\u001b[1;33m=\u001b[0m\u001b[1;33m(\u001b[0m\u001b[1;36m12\u001b[0m\u001b[1;33m,\u001b[0m\u001b[1;36m8\u001b[0m\u001b[1;33m)\u001b[0m\u001b[1;33m)\u001b[0m\u001b[1;33m\u001b[0m\u001b[1;33m\u001b[0m\u001b[0m\n\u001b[0m\u001b[0;32m      2\u001b[0m \u001b[1;33m\u001b[0m\u001b[0m\n\u001b[0;32m      3\u001b[0m \u001b[1;31m# REMOVE UNEMPLOYED PEOPLE\u001b[0m\u001b[1;33m\u001b[0m\u001b[1;33m\u001b[0m\u001b[1;33m\u001b[0m\u001b[0m\n\u001b[0;32m      4\u001b[0m \u001b[0memployed\u001b[0m \u001b[1;33m=\u001b[0m \u001b[0mdf\u001b[0m\u001b[1;33m[\u001b[0m\u001b[0mdf\u001b[0m\u001b[1;33m[\u001b[0m\u001b[1;34m'DAYS_EMPLOYED'\u001b[0m\u001b[1;33m]\u001b[0m\u001b[1;33m<\u001b[0m\u001b[1;36m0\u001b[0m\u001b[1;33m]\u001b[0m\u001b[1;33m\u001b[0m\u001b[1;33m\u001b[0m\u001b[0m\n\u001b[0;32m      5\u001b[0m \u001b[1;33m\u001b[0m\u001b[0m\n",
      "\u001b[1;31mNameError\u001b[0m: name 'plt' is not defined"
     ]
    }
   ],
   "source": [
    "plt.figure(figsize=(12,8))\n",
    "\n",
    "# REMOVE UNEMPLOYED PEOPLE\n",
    "employed = df[df['DAYS_EMPLOYED']<0]\n",
    "\n",
    "# MAKE BOTH POSITIVE\n",
    "employed['DAYS_EMPLOYED'] = -1*employed['DAYS_EMPLOYED']\n",
    "employed['DAYS_BIRTH'] = -1*employed['DAYS_BIRTH']\n",
    "\n",
    "# With so many points, alpha is tiny, might be an indicated that a \n",
    "# scatterplot may not be the right choice!\n",
    "sns.scatterplot(y='DAYS_EMPLOYED',x='DAYS_BIRTH',data=employed,\n",
    "                alpha=0.01,linewidth=0)\n",
    "\n",
    "plt.savefig('task_one.jpg')"
   ]
  },
  {
   "cell_type": "markdown",
   "metadata": {},
   "source": [
    "### TASK: Recreate the Distribution Plot shown below:\n",
    "\n",
    "<img src=\"DistPlot_solution.png\">\n",
    "\n",
    "**Note, you will need to figure out how to calculate \"Age in Years\" from one of the columns in the DF. Think carefully about this. Don't worry too much if you are unable to replicate the styling exactly.**"
   ]
  },
  {
   "cell_type": "code",
   "execution_count": 9,
   "metadata": {},
   "outputs": [],
   "source": [
    "# CODE HERE TO RECREATE THE PLOT SHOWN ABOVE"
   ]
  },
  {
   "cell_type": "code",
   "execution_count": 24,
   "metadata": {},
   "outputs": [
    {
     "data": {
      "image/png": "[encoded data removed]",
      "text/plain": [
       "<Figure size 576x288 with 1 Axes>"
      ]
     },
     "metadata": {
      "needs_background": "light"
     },
     "output_type": "display_data"
    }
   ],
   "source": [
    "plt.figure(figsize=(8,4))\n",
    "\n",
    "df['YEARS'] = -1*df['DAYS_BIRTH']/365\n",
    "sns.histplot(data=df,x='YEARS',linewidth=2,edgecolor='black',\n",
    "             color='red',bins=45,alpha=0.4)\n",
    "plt.xlabel(\"Age in Years\")\n",
    "plt.savefig('DistPlot_solution.png')"
   ]
  },
  {
   "cell_type": "markdown",
   "metadata": {},
   "source": [
    "### TASK: Recreate the Categorical Plot shown below:\n",
    "\n",
    "<img src='catplot_solution.png'>\n",
    "\n",
    "**This plot shows information only for the *bottom half* of income earners in the data set. It shows the boxplots for each category of NAME_FAMILY_STATUS column for displaying their distribution of their total income. The hue is the \"FLAG_OWN_REALTY\" column. Note: You will need to adjust or only take part of the dataframe *before* recreating this plot.**"
   ]
  },
  {
   "cell_type": "code",
   "execution_count": 11,
   "metadata": {},
   "outputs": [],
   "source": [
    "# CODE HERE"
   ]
  },
  {
   "cell_type": "code",
   "execution_count": 12,
   "metadata": {},
   "outputs": [
    {
     "data": {
      "text/plain": [
       "Text(0.5, 1.0, 'Income Totals per Family Status for Bottom Half of Earners')"
      ]
     },
     "execution_count": 12,
     "metadata": {},
     "output_type": "execute_result"
    },
    {
     "data": {
      "image/png": "[encoded data removed]",
      "text/plain": [
       "<Figure size 864x360 with 1 Axes>"
      ]
     },
     "metadata": {
      "needs_background": "light"
     },
     "output_type": "display_data"
    }
   ],
   "source": [
    "plt.figure(figsize=(12,5))\n",
    "\n",
    "bottom_half_income = df.nsmallest(n=int(0.5*len(df)),columns='AMT_INCOME_TOTAL')\n",
    "sns.boxplot(x='NAME_FAMILY_STATUS',y='AMT_INCOME_TOTAL',data=bottom_half_income,hue='FLAG_OWN_REALTY')\n",
    "plt.legend(bbox_to_anchor=(1.05, 1), loc=2, borderaxespad=0.,title='FLAG_OWN_REALTY')\n",
    "plt.title('Income Totals per Family Status for Bottom Half of Earners')\n"
   ]
  },
  {
   "cell_type": "markdown",
   "metadata": {},
   "source": [
    "### TASK: Recreate the Heat Map shown below:\n",
    "\n",
    "<img src='heatmap_solution.png'>"
   ]
  },
  {
   "cell_type": "markdown",
   "metadata": {},
   "source": [
    "**This heatmap shows the correlation between the columns in the dataframe. You can get correlation with .corr() , also note that the FLAG_MOBIL column has NaN correlation with every other column, so you should drop it before calling .corr().**"
   ]
  },
  {
   "cell_type": "code",
   "execution_count": 13,
   "metadata": {},
   "outputs": [
    {
     "data": {
      "text/html": [
       "<div>\n",
       "<style scoped>\n",
       "    .dataframe tbody tr th:only-of-type {\n",
       "        vertical-align: middle;\n",
       "    }\n",
       "\n",
       "    .dataframe tbody tr th {\n",
       "        vertical-align: top;\n",
       "    }\n",
       "\n",
       "    .dataframe thead th {\n",
       "        text-align: right;\n",
       "    }\n",
       "</style>\n",
       "<table border=\"1\" class=\"dataframe\">\n",
       "  <thead>\n",
       "    <tr style=\"text-align: right;\">\n",
       "      <th></th>\n",
       "      <th>ID</th>\n",
       "      <th>CNT_CHILDREN</th>\n",
       "      <th>AMT_INCOME_TOTAL</th>\n",
       "      <th>DAYS_BIRTH</th>\n",
       "      <th>DAYS_EMPLOYED</th>\n",
       "      <th>FLAG_MOBIL</th>\n",
       "      <th>FLAG_WORK_PHONE</th>\n",
       "      <th>FLAG_PHONE</th>\n",
       "      <th>FLAG_EMAIL</th>\n",
       "      <th>CNT_FAM_MEMBERS</th>\n",
       "    </tr>\n",
       "  </thead>\n",
       "  <tbody>\n",
       "    <tr>\n",
       "      <th>ID</th>\n",
       "      <td>1.000000</td>\n",
       "      <td>-0.005178</td>\n",
       "      <td>0.011179</td>\n",
       "      <td>-0.004994</td>\n",
       "      <td>-0.002467</td>\n",
       "      <td>NaN</td>\n",
       "      <td>-0.023319</td>\n",
       "      <td>-0.018992</td>\n",
       "      <td>0.032875</td>\n",
       "      <td>-0.001862</td>\n",
       "    </tr>\n",
       "    <tr>\n",
       "      <th>CNT_CHILDREN</th>\n",
       "      <td>-0.005178</td>\n",
       "      <td>1.000000</td>\n",
       "      <td>0.019177</td>\n",
       "      <td>0.349088</td>\n",
       "      <td>-0.241535</td>\n",
       "      <td>NaN</td>\n",
       "      <td>0.038418</td>\n",
       "      <td>-0.038266</td>\n",
       "      <td>0.028457</td>\n",
       "      <td>0.884781</td>\n",
       "    </tr>\n",
       "    <tr>\n",
       "      <th>AMT_INCOME_TOTAL</th>\n",
       "      <td>0.011179</td>\n",
       "      <td>0.019177</td>\n",
       "      <td>1.000000</td>\n",
       "      <td>0.053775</td>\n",
       "      <td>-0.141291</td>\n",
       "      <td>NaN</td>\n",
       "      <td>-0.033635</td>\n",
       "      <td>0.004444</td>\n",
       "      <td>0.112139</td>\n",
       "      <td>0.011454</td>\n",
       "    </tr>\n",
       "    <tr>\n",
       "      <th>DAYS_BIRTH</th>\n",
       "      <td>-0.004994</td>\n",
       "      <td>0.349088</td>\n",
       "      <td>0.053775</td>\n",
       "      <td>1.000000</td>\n",
       "      <td>-0.617908</td>\n",
       "      <td>NaN</td>\n",
       "      <td>0.171829</td>\n",
       "      <td>-0.037984</td>\n",
       "      <td>0.096752</td>\n",
       "      <td>0.306179</td>\n",
       "    </tr>\n",
       "    <tr>\n",
       "      <th>DAYS_EMPLOYED</th>\n",
       "      <td>-0.002467</td>\n",
       "      <td>-0.241535</td>\n",
       "      <td>-0.141291</td>\n",
       "      <td>-0.617908</td>\n",
       "      <td>1.000000</td>\n",
       "      <td>NaN</td>\n",
       "      <td>-0.232208</td>\n",
       "      <td>0.004868</td>\n",
       "      <td>-0.074372</td>\n",
       "      <td>-0.234373</td>\n",
       "    </tr>\n",
       "    <tr>\n",
       "      <th>FLAG_MOBIL</th>\n",
       "      <td>NaN</td>\n",
       "      <td>NaN</td>\n",
       "      <td>NaN</td>\n",
       "      <td>NaN</td>\n",
       "      <td>NaN</td>\n",
       "      <td>NaN</td>\n",
       "      <td>NaN</td>\n",
       "      <td>NaN</td>\n",
       "      <td>NaN</td>\n",
       "      <td>NaN</td>\n",
       "    </tr>\n",
       "    <tr>\n",
       "      <th>FLAG_WORK_PHONE</th>\n",
       "      <td>-0.023319</td>\n",
       "      <td>0.038418</td>\n",
       "      <td>-0.033635</td>\n",
       "      <td>0.171829</td>\n",
       "      <td>-0.232208</td>\n",
       "      <td>NaN</td>\n",
       "      <td>1.000000</td>\n",
       "      <td>0.290066</td>\n",
       "      <td>-0.060915</td>\n",
       "      <td>0.049777</td>\n",
       "    </tr>\n",
       "    <tr>\n",
       "      <th>FLAG_PHONE</th>\n",
       "      <td>-0.018992</td>\n",
       "      <td>-0.038266</td>\n",
       "      <td>0.004444</td>\n",
       "      <td>-0.037984</td>\n",
       "      <td>0.004868</td>\n",
       "      <td>NaN</td>\n",
       "      <td>0.290066</td>\n",
       "      <td>1.000000</td>\n",
       "      <td>-0.001170</td>\n",
       "      <td>-0.024213</td>\n",
       "    </tr>\n",
       "    <tr>\n",
       "      <th>FLAG_EMAIL</th>\n",
       "      <td>0.032875</td>\n",
       "      <td>0.028457</td>\n",
       "      <td>0.112139</td>\n",
       "      <td>0.096752</td>\n",
       "      <td>-0.074372</td>\n",
       "      <td>NaN</td>\n",
       "      <td>-0.060915</td>\n",
       "      <td>-0.001170</td>\n",
       "      <td>1.000000</td>\n",
       "      <td>0.022054</td>\n",
       "    </tr>\n",
       "    <tr>\n",
       "      <th>CNT_FAM_MEMBERS</th>\n",
       "      <td>-0.001862</td>\n",
       "      <td>0.884781</td>\n",
       "      <td>0.011454</td>\n",
       "      <td>0.306179</td>\n",
       "      <td>-0.234373</td>\n",
       "      <td>NaN</td>\n",
       "      <td>0.049777</td>\n",
       "      <td>-0.024213</td>\n",
       "      <td>0.022054</td>\n",
       "      <td>1.000000</td>\n",
       "    </tr>\n",
       "  </tbody>\n",
       "</table>\n",
       "</div>"
      ],
      "text/plain": [
       "                        ID  CNT_CHILDREN  AMT_INCOME_TOTAL  DAYS_BIRTH  \\\n",
       "ID                1.000000     -0.005178          0.011179   -0.004994   \n",
       "CNT_CHILDREN     -0.005178      1.000000          0.019177    0.349088   \n",
       "AMT_INCOME_TOTAL  0.011179      0.019177          1.000000    0.053775   \n",
       "DAYS_BIRTH       -0.004994      0.349088          0.053775    1.000000   \n",
       "DAYS_EMPLOYED    -0.002467     -0.241535         -0.141291   -0.617908   \n",
       "FLAG_MOBIL             NaN           NaN               NaN         NaN   \n",
       "FLAG_WORK_PHONE  -0.023319      0.038418         -0.033635    0.171829   \n",
       "FLAG_PHONE       -0.018992     -0.038266          0.004444   -0.037984   \n",
       "FLAG_EMAIL        0.032875      0.028457          0.112139    0.096752   \n",
       "CNT_FAM_MEMBERS  -0.001862      0.884781          0.011454    0.306179   \n",
       "\n",
       "                  DAYS_EMPLOYED  FLAG_MOBIL  FLAG_WORK_PHONE  FLAG_PHONE  \\\n",
       "ID                    -0.002467         NaN        -0.023319   -0.018992   \n",
       "CNT_CHILDREN          -0.241535         NaN         0.038418   -0.038266   \n",
       "AMT_INCOME_TOTAL      -0.141291         NaN        -0.033635    0.004444   \n",
       "DAYS_BIRTH            -0.617908         NaN         0.171829   -0.037984   \n",
       "DAYS_EMPLOYED          1.000000         NaN        -0.232208    0.004868   \n",
       "FLAG_MOBIL                  NaN         NaN              NaN         NaN   \n",
       "FLAG_WORK_PHONE       -0.232208         NaN         1.000000    0.290066   \n",
       "FLAG_PHONE             0.004868         NaN         0.290066    1.000000   \n",
       "FLAG_EMAIL            -0.074372         NaN        -0.060915   -0.001170   \n",
       "CNT_FAM_MEMBERS       -0.234373         NaN         0.049777   -0.024213   \n",
       "\n",
       "                  FLAG_EMAIL  CNT_FAM_MEMBERS  \n",
       "ID                  0.032875        -0.001862  \n",
       "CNT_CHILDREN        0.028457         0.884781  \n",
       "AMT_INCOME_TOTAL    0.112139         0.011454  \n",
       "DAYS_BIRTH          0.096752         0.306179  \n",
       "DAYS_EMPLOYED      -0.074372        -0.234373  \n",
       "FLAG_MOBIL               NaN              NaN  \n",
       "FLAG_WORK_PHONE    -0.060915         0.049777  \n",
       "FLAG_PHONE         -0.001170        -0.024213  \n",
       "FLAG_EMAIL          1.000000         0.022054  \n",
       "CNT_FAM_MEMBERS     0.022054         1.000000  "
      ]
     },
     "execution_count": 13,
     "metadata": {},
     "output_type": "execute_result"
    }
   ],
   "source": [
    "df.corr()"
   ]
  },
  {
   "cell_type": "code",
   "execution_count": 14,
   "metadata": {},
   "outputs": [
    {
     "data": {
      "text/plain": [
       "<AxesSubplot:>"
      ]
     },
     "execution_count": 14,
     "metadata": {},
     "output_type": "execute_result"
    },
    {
     "data": {
      "image/png": "[encoded data removed]",
      "text/plain": [
       "<Figure size 432x288 with 2 Axes>"
      ]
     },
     "metadata": {
      "needs_background": "light"
     },
     "output_type": "display_data"
    }
   ],
   "source": [
    "sns.heatmap(df.drop('FLAG_MOBIL',axis=1).corr(),cmap=\"viridis\")"
   ]
  }
 ],
 "metadata": {
  "anaconda-cloud": {},
  "kernelspec": {
   "display_name": "Python 3",
   "language": "python",
   "name": "python3"
  },
  "language_info": {
   "codemirror_mode": {
    "name": "ipython",
    "version": 3
   },
   "file_extension": ".py",
   "mimetype": "text/x-python",
   "name": "python",
   "nbconvert_exporter": "python",
   "pygments_lexer": "ipython3",
   "version": "3.8.2"
  }
 },
 "nbformat": 4,
 "nbformat_minor": 1
}
